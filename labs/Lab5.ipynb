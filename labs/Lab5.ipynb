{
 "cells": [
  {
   "cell_type": "markdown",
   "metadata": {
    "id": "WPvB9TcMmKA6"
   },
   "source": [
    "# Лабораторная работа №5\n",
    "# Рекурсия. Фракталы."
   ]
  },
  {
   "cell_type": "markdown",
   "metadata": {
    "id": "96Gi_LEvmSVH"
   },
   "source": [
    "## Выполнила студентка группы БФИ2001 Ахматова Александра \n",
    "***"
   ]
  },
  {
   "cell_type": "markdown",
   "metadata": {
    "id": "4clYOyb0mbEv"
   },
   "source": [
    "### Задание:\n",
    "Реализовать генерацию заданного типа фрактала с применением рекурсивных функций.\n",
    "\n",
    "\n",
    "Добавить возможность задания глубины фрактала. \n",
    "\n",
    "\n",
    "Оценить глубину рекурсии. \n",
    "\n",
    "\n",
    "Построить таблицу зависимости времени построения от глубины фрактала."
   ]
  },
  {
   "cell_type": "markdown",
   "metadata": {
    "id": "wDXHbUmMmhRL"
   },
   "source": [
    "### Список фракталов:\n",
    "\n",
    "Кривая Коха\n",
    "| Кривая Гильберта\n",
    "| Кривая Серпинского\n",
    "| Салфетка Серпинского\n",
    "| Ковер Серпинского\n",
    "| Дерево Пифагора "
   ]
  },
  {
   "cell_type": "markdown",
   "metadata": {
    "id": "Wggfn8l7nG72"
   },
   "source": [
    "### Выполнение:"
   ]
  },
  {
   "cell_type": "markdown",
   "metadata": {
    "id": "Wggfn8l7nG72"
   },
   "source": [
    "### README"
   ]
  },
  {
   "cell_type": "code",
   "execution_count": null,
   "metadata": {},
   "outputs": [],
   "source": [
    "#черепашка может не запускаться с первого раза, пожалуйста, учтите это при проверке"
   ]
  },
  {
   "cell_type": "code",
   "execution_count": 1,
   "metadata": {},
   "outputs": [
    {
     "name": "stdout",
     "output_type": "stream",
     "text": [
      "Requirement already satisfied: turtle in e:\\programs\\python\\lib\\site-packages (0.0.1)\n",
      "Requirement already satisfied: PyYAML>=3.08 in e:\\programs\\python\\lib\\site-packages (from turtle) (6.0)\n"
     ]
    },
    {
     "name": "stderr",
     "output_type": "stream",
     "text": [
      "WARNING: You are using pip version 21.2.4; however, version 22.0.4 is available.\n",
      "You should consider upgrading via the 'E:\\Programs\\python\\python.exe -m pip install --upgrade pip' command.\n"
     ]
    }
   ],
   "source": [
    "! pip install turtle\n",
    "import turtle\n",
    "from time import perf_counter"
   ]
  },
  {
   "cell_type": "markdown",
   "metadata": {
    "id": "wDXHbUmMmhRL"
   },
   "source": [
    "### Кривая коха:"
   ]
  },
  {
   "cell_type": "code",
   "execution_count": 75,
   "metadata": {},
   "outputs": [
    {
     "name": "stdout",
     "output_type": "stream",
     "text": [
      "Введите глубину фрактала: 3\n",
      "Глубина рекурсии: 3\n",
      "Время отрисовки: 1.9851650999999038\n",
      "Введите любой символ, чтобы завершить работу программы. Пожалуйста, не закрывайте окно черепашки, если хотите продолжить проверку заданий!  1\n"
     ]
    }
   ],
   "source": [
    "size = 900\n",
    "n = int(input('Введите глубину фрактала: '))\n",
    "     \n",
    "turtle.speed('fastest')\n",
    "turtle.up()\n",
    "turtle.goto(-450, 0)\n",
    "turtle.down()\n",
    "\n",
    "def koch_curve (size, n):\n",
    "    if n == 0:\n",
    "        turtle.forward(size)\n",
    "    else:\n",
    "        koch_curve(size/3, n-1) #straight line\n",
    "        turtle.left(60)\n",
    "        koch_curve(size/3, n-1) #up triangle side\n",
    "        turtle.right(120)\n",
    "        koch_curve(size/3, n-1) #down triangle side\n",
    "        turtle.left(60)\n",
    "        koch_curve(size/3, n-1) #other straight line\n",
    "\n",
    "start = perf_counter()\n",
    "koch_curve(size, n)\n",
    "stop = perf_counter()\n",
    "print('Глубина рекурсии: ' + str(n))\n",
    "print('Время отрисовки: ' + str(stop-start))\n",
    "x = input('Введите любой символ, чтобы завершить работу программы. Пожалуйста, не закрывайте окно черепашки, если хотите продолжить проверку заданий!  ')\n",
    "turtle.reset()"
   ]
  },
  {
   "cell_type": "markdown",
   "metadata": {
    "id": "wDXHbUmMmhRL"
   },
   "source": [
    "Замеры отрисовки кривой Коха на максимальной скорости"
   ]
  },
  {
   "cell_type": "code",
   "execution_count": 76,
   "metadata": {},
   "outputs": [
    {
     "name": "stdout",
     "output_type": "stream",
     "text": [
      "Кривая Коха (глубина 1): 0.10835910000059812\n",
      "Кривая Коха (глубина 2): 0.4839569000005213\n",
      "Кривая Коха (глубина 3): 1.980493999999453\n",
      "Кривая Коха (глубина 4): 8.001536300000225\n",
      "Кривая Коха (глубина 5): 32.174627399999736\n",
      "Пожалуйста, не закрывайте окно черепашки, если хотите продолжить проверку заданий!\n"
     ]
    }
   ],
   "source": [
    "def timer_func (n):\n",
    "    turtle.up()\n",
    "    turtle.goto(-450, 0)\n",
    "    turtle.down()\n",
    "    turtle.speed('fastest')\n",
    "    start = perf_counter()\n",
    "    koch_curve (size, n)\n",
    "    stop = perf_counter()\n",
    "    print('Кривая Коха (глубина '+str(n)+'): ' + str(stop-start))\n",
    "timer_func(1)\n",
    "turtle.reset()\n",
    "timer_func(2)\n",
    "turtle.reset()\n",
    "timer_func(3)\n",
    "turtle.reset()\n",
    "timer_func(4)\n",
    "turtle.reset()\n",
    "timer_func(5)\n",
    "turtle.reset()\n",
    "print('Пожалуйста, не закрывайте окно черепашки, если хотите продолжить проверку заданий!')"
   ]
  },
  {
   "cell_type": "markdown",
   "metadata": {
    "id": "wDXHbUmMmhRL"
   },
   "source": [
    "### Кривая Гильберта:"
   ]
  },
  {
   "cell_type": "code",
   "execution_count": 77,
   "metadata": {},
   "outputs": [
    {
     "name": "stdout",
     "output_type": "stream",
     "text": [
      "Введите глубину фрактала: 3\n",
      "Глубина рекурсии: 3\n",
      "Время отрисовки: 3.3032670000002327\n",
      "Введите любой символ, чтобы завершить работу программы. Пожалуйста, не закрывайте окно черепашки, если хотите продолжить проверку заданий!  1\n"
     ]
    }
   ],
   "source": [
    "n = int(input('Введите глубину фрактала: '))\n",
    "\n",
    "size = 30*pow(3, n)\n",
    "if n > 4:\n",
    "    size = size/3\n",
    "if n > 6:\n",
    "    size = size/3\n",
    "\n",
    "turtle.speed('fastest')\n",
    "turtle.up()\n",
    "turtle.goto(-450, 350)\n",
    "turtle.down()\n",
    "\n",
    "def hilbert_curve (size, n):\n",
    "    turtle.setheading(270)\n",
    "    gilb(size, n, 'left')\n",
    "    \n",
    "\n",
    "def gilb (size, n, side):\n",
    "    angle = 90\n",
    "    if n == 0:\n",
    "        turtle.forward(size)\n",
    "    elif n == 1:\n",
    "        if side == 'left':\n",
    "            # here turtle is pointing the way the figure must be drawn\n",
    "            x = turtle.heading()\n",
    "\n",
    "            if (n-1)%2 == 0:\n",
    "                turtle.left(angle) #so turtle point the way the figure is started  to be drawn\n",
    "                \n",
    "            turtle.right(angle)\n",
    "            gilb(size/3, 0, '') #spacer v\n",
    "            \n",
    "            turtle.left(angle)\n",
    "            gilb(size/3, 0, '') #spacer >\n",
    "            turtle.right(angle)\n",
    "            \n",
    "            turtle.right(angle*2)\n",
    "            gilb(size/3, 0, '') #spacer ^\n",
    "            turtle.left(angle)\n",
    "            #returning turtul point to the income state so we need to think less\n",
    "            turtle.setheading(x)\n",
    "                       \n",
    "        else:\n",
    "            # here turtle is pointing the way the figure must be drawn\n",
    "            x = turtle.heading()\n",
    "            if (n-1)%2 == 0:\n",
    "                turtle.right(angle) #so turtle point the way the figure is started  to be drawn\n",
    "\n",
    "            turtle.left(angle)\n",
    "            gilb(size/3, 0, '') #spacer v\n",
    "            \n",
    "            turtle.right(angle)\n",
    "            gilb(size/3, 0, '') #spacer <\n",
    "            turtle.left(angle)\n",
    "\n",
    "            turtle.left(angle*2)\n",
    "            gilb(size/3, 0, '') #spacer ^\n",
    "            turtle.right(angle)\n",
    "            \n",
    "            #returning turtul point to the income state so we need to think less\n",
    "            turtle.setheading(x)\n",
    "    else:\n",
    "        if side == 'left':\n",
    "            # here turtle is pointing the way the figure must be drawn\n",
    "            x = turtle.heading()\n",
    "\n",
    "            turtle.left(angle) #so turtle points the way the figure is started  to be drawn\n",
    "            \n",
    "            gilb(size/3, n-1, 'right') #the stuff >\n",
    "            \n",
    "            \n",
    "            turtle.right(angle)\n",
    "            gilb(size/pow(3, n), 0, '') #spacer v\n",
    "            \n",
    "            gilb(size/3, n-1, 'left') #the stuff v\n",
    "\n",
    "            turtle.left(angle)\n",
    "            gilb(size/pow(3, n), 0, '') #spacer >\n",
    "            turtle.right(angle)\n",
    "\n",
    "            gilb(size/3, n-1, 'left') #the stuff v\n",
    "\n",
    "            turtle.right(angle*2)\n",
    "            gilb(size/pow(3, n), 0, '') #spacer ^\n",
    "            turtle.left(angle)\n",
    "\n",
    "            gilb(size/3, n-1, 'right') #the stuff <\n",
    "\n",
    "            #returning turtul point to the income state so we need to think less\n",
    "            turtle.setheading(x)\n",
    "            \n",
    "            \n",
    "        else:\n",
    "            # here turtle is pointing the way the figure must be drawn\n",
    "            x = turtle.heading()\n",
    "            turtle.right(angle) #so turtle points the way the figure is started  to be drawn\n",
    "            \n",
    "            \n",
    "            gilb(size/3, n-1, 'left') #the stuff <\n",
    "            \n",
    "            turtle.left(angle)\n",
    "            gilb(size/pow(3, n), 0, '') #spacer v\n",
    "            \n",
    "            if n != 1:\n",
    "                gilb(size/3, n-1, 'right') #the stuff v\n",
    "            \n",
    "            turtle.right(angle)\n",
    "            gilb(size/pow(3, n), 0, '') #spacer <\n",
    "            turtle.left(angle)\n",
    "            \n",
    "            gilb(size/3, n-1, 'right') #the stuff v\n",
    "            \n",
    "            turtle.left(angle*2)\n",
    "            gilb(size/pow(3, n), 0, '') #spacer ^\n",
    "            turtle.right(angle)\n",
    "            \n",
    "            gilb(size/3, n-1, 'left') #the stuff >\n",
    "            \n",
    "            #returning turtul point to the income state so we need to think less\n",
    "            turtle.setheading(x)\n",
    "        \n",
    "        \n",
    "start = perf_counter()\n",
    "hilbert_curve(size, n)\n",
    "stop = perf_counter()\n",
    "print('Глубина рекурсии: ' + str(n))\n",
    "print('Время отрисовки: ' + str(stop-start))\n",
    "x = input('Введите любой символ, чтобы завершить работу программы. Пожалуйста, не закрывайте окно черепашки, если хотите продолжить проверку заданий!  ')\n",
    "turtle.reset()"
   ]
  },
  {
   "cell_type": "markdown",
   "metadata": {
    "id": "wDXHbUmMmhRL"
   },
   "source": [
    "Замеры отрисовки кривой Гильберта на максимальной скорости"
   ]
  },
  {
   "cell_type": "code",
   "execution_count": 97,
   "metadata": {},
   "outputs": [
    {
     "name": "stdout",
     "output_type": "stream",
     "text": [
      "Кривая Гильберта (глубина 1): 0.1706890999994357\n",
      "Кривая Гильберта (глубина 2): 0.7944053999999596\n",
      "Кривая Гильберта (глубина 3): 3.2921251999996457\n",
      "Кривая Гильберта (глубина 4): 13.296062699999311\n",
      "Кривая Гильберта (глубина 5): 53.19134320000012\n",
      "Пожалуйста, не закрывайте окно черепашки, если хотите продолжить проверку заданий!\n"
     ]
    }
   ],
   "source": [
    "def timer_func (n):\n",
    "    size = 400\n",
    "    turtle.up()\n",
    "    turtle.goto(-450, 350)\n",
    "    turtle.down()\n",
    "    turtle.speed('fastest')\n",
    "    start = perf_counter()\n",
    "    hilbert_curve(size, n)\n",
    "    stop = perf_counter()\n",
    "    print('Кривая Гильберта (глубина '+str(n)+'): ' + str(stop-start))\n",
    "timer_func(1)\n",
    "turtle.reset()\n",
    "timer_func(2)\n",
    "turtle.reset()\n",
    "timer_func(3)\n",
    "turtle.reset()\n",
    "timer_func(4)\n",
    "turtle.reset()\n",
    "timer_func(5)\n",
    "turtle.reset()\n",
    "print('Пожалуйста, не закрывайте окно черепашки, если хотите продолжить проверку заданий!')"
   ]
  },
  {
   "cell_type": "markdown",
   "metadata": {
    "id": "wDXHbUmMmhRL"
   },
   "source": [
    "### Кривая Серпинского:"
   ]
  },
  {
   "cell_type": "code",
   "execution_count": 84,
   "metadata": {},
   "outputs": [
    {
     "name": "stdout",
     "output_type": "stream",
     "text": [
      "Введите глубину фрактала: 3\n",
      "Глубина рекурсии: 3\n",
      "Время отрисовки: 7.98213559999931\n",
      "Введите любой символ, чтобы завершить работу программы. Пожалуйста, не закрывайте окно черепашки, если хотите продолжить проверку заданий!  1\n"
     ]
    }
   ],
   "source": [
    "n = int(input('Введите глубину фрактала: '))\n",
    "   \n",
    "size = 20*pow(2, n)\n",
    "if n > 4:\n",
    "    size = size/2\n",
    "if n > 5:\n",
    "    size = size/2\n",
    "if n > 6:\n",
    "    size = size/2\n",
    "\n",
    "turtle.speed('fastest')\n",
    "turtle.up()\n",
    "turtle.goto(-450, -350)\n",
    "turtle.down()\n",
    "\n",
    "def sierpinski_curve (size, n):\n",
    "    serp(size, n+1, \"end\")\n",
    "    turtle.right(90 + 45)\n",
    "    turtle.forward(size/pow(2, n+1))\n",
    "\n",
    "def serp (size, n, pos):\n",
    "    if n == 0:\n",
    "        turtle.left(45)\n",
    "        turtle.forward(size)\n",
    "        turtle.right(90)\n",
    "        turtle.forward(size)\n",
    "        turtle.right(90)\n",
    "        turtle.forward(size)\n",
    "        turtle.left(45)\n",
    "            \n",
    "    else:\n",
    "        if pos == 'diag up': \n",
    "            #left down\n",
    "            if n != 1:\n",
    "                serp(size/2, n-1, \"diag up\")\n",
    "            #left up\n",
    "            turtle.left(45)\n",
    "            turtle.forward(size/pow(2, n))\n",
    "            turtle.left(45)\n",
    "            turtle.forward(size/pow(2, n-1))\n",
    "            serp(size, n, \"end\")\n",
    "            turtle.forward(size/pow(2, n-1))\n",
    "            #right up\n",
    "            if n != 1:\n",
    "                serp(size/2, n-1, \"diag up\")\n",
    "        elif pos == 'diag down':\n",
    "            #right up\n",
    "            if n != 1:\n",
    "                serp(size/2, n-1, \"diag down\")\n",
    "            #right down\n",
    "            turtle.forward(size/pow(2, n-1))\n",
    "            serp(size, n, \"end\")\n",
    "            turtle.forward(size/pow(2, n-1))\n",
    "            turtle.left(45)\n",
    "            turtle.forward(size/pow(2, n))\n",
    "            turtle.left(45)\n",
    "            #left down\n",
    "            if n != 1:\n",
    "                serp(size/2, n-1, \"diag down\")\n",
    "            \n",
    "        elif pos == 'center':\n",
    "            #left up\n",
    "            turtle.left(45)\n",
    "            turtle.forward(size/pow(2, n))\n",
    "            turtle.left(45)\n",
    "            turtle.forward(size/pow(2, n-1))\n",
    "            serp(size, n, \"end\")\n",
    "            #right up\n",
    "            turtle.forward(size/pow(2, n-1))\n",
    "            serp(size, n, \"end\")\n",
    "            #left down\n",
    "            turtle.forward(size/pow(2, n-1))\n",
    "            serp(size, n, \"end\")\n",
    "            #right down\n",
    "            turtle.forward(size/pow(2, n-1))\n",
    "            turtle.left(45)\n",
    "            turtle.forward(size/pow(2, n))\n",
    "            turtle.left(45)\n",
    "            \n",
    "        else: #pos == end\n",
    "            #left down\n",
    "            if n > 2:\n",
    "                serp(size/4, n-2, \"diag up\")\n",
    "            #else\n",
    "            serp(size/2, n-1, \"center\")\n",
    "            #left down\n",
    "            if n > 2:\n",
    "                serp(size/4, n-2, \"diag down\")\n",
    "                \n",
    "start = perf_counter()\n",
    "sierpinski_curve(size, n)\n",
    "stop = perf_counter()\n",
    "print('Глубина рекурсии: ' + str(n))\n",
    "print('Время отрисовки: ' + str(stop-start))\n",
    "x = input('Введите любой символ, чтобы завершить работу программы. Пожалуйста, не закрывайте окно черепашки, если хотите продолжить проверку заданий!  ')\n",
    "turtle.reset()"
   ]
  },
  {
   "cell_type": "markdown",
   "metadata": {
    "id": "wDXHbUmMmhRL"
   },
   "source": [
    "Замеры отрисовки кривой Серпинского на максимальной скорости"
   ]
  },
  {
   "cell_type": "code",
   "execution_count": 85,
   "metadata": {},
   "outputs": [
    {
     "name": "stdout",
     "output_type": "stream",
     "text": [
      "Кривая Серпинского (глубина 1): 0.5166532000002917\n",
      "Кривая Серпинского (глубина 2): 2.006731800000125\n",
      "Кривая Серпинского (глубина 3): 7.996590599999763\n",
      "Кривая Серпинского (глубина 4): 31.988390499999696\n",
      "Кривая Серпинского (глубина 5): 128.36271000000033\n",
      "Пожалуйста, не закрывайте окно черепашки, если хотите продолжить проверку заданий!\n"
     ]
    }
   ],
   "source": [
    "def timer_func (n):\n",
    "    size = 100\n",
    "    turtle.up()\n",
    "    turtle.goto(-450, -350)\n",
    "    turtle.down()\n",
    "    turtle.speed('fastest')\n",
    "    start = perf_counter()\n",
    "    sierpinski_curve(size, n)\n",
    "    stop = perf_counter()\n",
    "    print('Кривая Серпинского (глубина '+str(n)+'): ' + str(stop-start))\n",
    "timer_func(1)\n",
    "turtle.reset()\n",
    "timer_func(2)\n",
    "turtle.reset()\n",
    "timer_func(3)\n",
    "turtle.reset()\n",
    "timer_func(4)\n",
    "turtle.reset()\n",
    "timer_func(5)\n",
    "turtle.reset()\n",
    "print('Пожалуйста, не закрывайте окно черепашки, если хотите продолжить проверку заданий!')"
   ]
  },
  {
   "cell_type": "markdown",
   "metadata": {
    "id": "wDXHbUmMmhRL"
   },
   "source": [
    "### Салфетка Серпинского:"
   ]
  },
  {
   "cell_type": "code",
   "execution_count": 86,
   "metadata": {
    "id": "681a95mZnOSa"
   },
   "outputs": [
    {
     "name": "stdout",
     "output_type": "stream",
     "text": [
      "Введите глубину фрактала: 3\n",
      "Глубина рекурсии: 3\n",
      "Время отрисовки: 1.3471836999997322\n",
      "Введите любой символ, чтобы завершить работу программы. Пожалуйста, не закрывайте окно черепашки, если хотите продолжить проверку заданий!  1\n"
     ]
    }
   ],
   "source": [
    "size = 400\n",
    "n = int(input('Введите глубину фрактала: '))\n",
    "turtle.speed('fastest')\n",
    "\n",
    "def draw_triangle (size, color):\n",
    "    turtle.color(color, color)\n",
    "    turtle.begin_fill()\n",
    "    turtle.left(60)\n",
    "    turtle.forward(size)\n",
    "    turtle.right(120)\n",
    "    turtle.forward(size)\n",
    "    turtle.right(120)\n",
    "    turtle.forward(size)\n",
    "    turtle.end_fill()\n",
    "    \n",
    "def draw_black(size):\n",
    "    x = turtle.heading()\n",
    "    draw_triangle(size, \"black\")\n",
    "    turtle.setheading(x)\n",
    "\n",
    "def draw_white(size):\n",
    "    x = turtle.heading()\n",
    "    turtle.up()\n",
    "    turtle.forward(size)\n",
    "    turtle.right(180)\n",
    "    turtle.down\n",
    "    draw_triangle(size, \"white\")\n",
    "    turtle.setheading(x)\n",
    "\n",
    "def sierpinski_napkin (size, n):\n",
    "    turtle.color(\"black\")\n",
    "    turtle.up()\n",
    "    turtle.hideturtle()\n",
    "    turtle.goto(-200, -100)     \n",
    "    turtle.showturtle()\n",
    "    draw_black(size)\n",
    "    if n != 1:\n",
    "        serpn(size/2, n)\n",
    "\n",
    "def serpn(size, n):\n",
    "    if n == 2:\n",
    "        x = turtle.xcor()\n",
    "        y = turtle.ycor()\n",
    "        turtle.left(60)\n",
    "        turtle.forward(size)\n",
    "        turtle.setheading(0)\n",
    "        draw_white(size)\n",
    "        turtle.goto(x, y)\n",
    "    else:\n",
    "        x = turtle.xcor()\n",
    "        y = turtle.ycor()\n",
    "        serpn(size, 2) #big center\n",
    "                \n",
    "        serpn(size/2, n-1) #left\n",
    "        \n",
    "        turtle.left(60)\n",
    "        turtle.forward(size)\n",
    "        turtle.setheading(0)\n",
    "        serpn(size/2, n-1) #upper\n",
    "        \n",
    "        turtle.right(60)\n",
    "        turtle.forward(size)\n",
    "        turtle.setheading(0)\n",
    "        serpn(size/2, n-1) #right\n",
    "        turtle.goto(x, y)\n",
    "        \n",
    "        \n",
    "\n",
    "start = perf_counter()\n",
    "sierpinski_napkin(size, n)\n",
    "stop = perf_counter()\n",
    "print('Глубина рекурсии: ' + str(n))\n",
    "print('Время отрисовки: ' + str(stop-start))\n",
    "x = input('Введите любой символ, чтобы завершить работу программы. Пожалуйста, не закрывайте окно черепашки, если хотите продолжить проверку заданий!  ')\n",
    "turtle.reset()"
   ]
  },
  {
   "cell_type": "markdown",
   "metadata": {
    "id": "wDXHbUmMmhRL"
   },
   "source": [
    "Замеры отрисовки салфетки Серпинского на максимальной скорости"
   ]
  },
  {
   "cell_type": "code",
   "execution_count": 87,
   "metadata": {},
   "outputs": [
    {
     "name": "stdout",
     "output_type": "stream",
     "text": [
      "салфетка Серпинского (глубина 1): 0.23717730000043957\n",
      "салфетка Серпинского (глубина 2): 0.48606420000032813\n",
      "салфетка Серпинского (глубина 3): 1.3504977000002327\n",
      "салфетка Серпинского (глубина 4): 3.9212648000002446\n",
      "салфетка Серпинского (глубина 5): 11.656736599999931\n",
      "Пожалуйста, не закрывайте окно черепашки, если хотите продолжить проверку заданий!\n"
     ]
    }
   ],
   "source": [
    "def timer_func (n):\n",
    "    size = 100\n",
    "    turtle.speed('fastest')\n",
    "    start = perf_counter()\n",
    "    sierpinski_napkin(size, n)\n",
    "    stop = perf_counter()\n",
    "    print('салфетка Серпинского (глубина '+str(n)+'): ' + str(stop-start))\n",
    "timer_func(1)\n",
    "turtle.reset()\n",
    "timer_func(2)\n",
    "turtle.reset()\n",
    "timer_func(3)\n",
    "turtle.reset()\n",
    "timer_func(4)\n",
    "turtle.reset()\n",
    "timer_func(5)\n",
    "turtle.reset()\n",
    "print('Пожалуйста, не закрывайте окно черепашки, если хотите продолжить проверку заданий!')"
   ]
  },
  {
   "cell_type": "markdown",
   "metadata": {
    "id": "wDXHbUmMmhRL"
   },
   "source": [
    "### Ковер Серпинского:"
   ]
  },
  {
   "cell_type": "code",
   "execution_count": 88,
   "metadata": {},
   "outputs": [
    {
     "name": "stdout",
     "output_type": "stream",
     "text": [
      "Введите глубину фрактала: 3\n",
      "Глубина рекурсии: 3\n",
      "Время отрисовки: 2.9508251000006567\n",
      "Введите любой символ, чтобы завершить работу программы. Пожалуйста, не закрывайте окно черепашки, если хотите продолжить проверку заданий!  1\n"
     ]
    }
   ],
   "source": [
    "size = 400\n",
    "n = int(input('Введите глубину фрактала: '))\n",
    "turtle.speed('fastest')\n",
    "\n",
    "def draw_square (size, color):\n",
    "    turtle.color(color, color)\n",
    "    turtle.begin_fill()\n",
    "    turtle.setheading(90)\n",
    "    turtle.forward(size)\n",
    "    turtle.setheading(0)\n",
    "    turtle.forward(size)\n",
    "    turtle.setheading(270)\n",
    "    turtle.forward(size)\n",
    "    turtle.setheading(180)\n",
    "    turtle.forward(size)\n",
    "    turtle.end_fill()\n",
    "    \n",
    "def draw_black_c(size):\n",
    "    draw_square(size, \"black\")\n",
    "    turtle.setheading(0)\n",
    "\n",
    "def draw_white_c(size):\n",
    "    draw_square(size, \"white\")\n",
    "    turtle.setheading(0)\n",
    "\n",
    "def sierpinski_carpet (size, n):\n",
    "    turtle.color(\"black\")\n",
    "    turtle.up()\n",
    "    turtle.hideturtle()\n",
    "    turtle.goto(-230, -140)     \n",
    "    turtle.showturtle()\n",
    "    turtle.setheading(0)\n",
    "    draw_black_c(size)\n",
    "    if n != 1:\n",
    "        serpn_c(size, n)\n",
    "\n",
    "def serpn_c(size, n):\n",
    "    if n == 2:\n",
    "        x = turtle.xcor()\n",
    "        y = turtle.ycor()\n",
    "        turtle.setheading(90)\n",
    "        turtle.forward(size/3)\n",
    "        turtle.setheading(0)\n",
    "        turtle.forward(size/3)\n",
    "        draw_white_c(size/3)\n",
    "        turtle.goto(x, y)\n",
    "    else:\n",
    "        x = turtle.xcor()\n",
    "        y = turtle.ycor()\n",
    "        serpn_c(size, 2) #big center\n",
    "                \n",
    "        serpn_c(size/3, n-1) #left down\n",
    "        \n",
    "        turtle.left(90)\n",
    "        turtle.forward(size/3)\n",
    "        turtle.right(90)\n",
    "        serpn_c(size/3, n-1) #left mid\n",
    "        \n",
    "        turtle.left(90)\n",
    "        turtle.forward(size/3)\n",
    "        turtle.right(90)\n",
    "        serpn_c(size/3, n-1) #left up\n",
    "        \n",
    "        turtle.forward(size/3)\n",
    "        serpn_c(size/3, n-1) #center up\n",
    "        \n",
    "        turtle.forward(size/3)\n",
    "        serpn_c(size/3, n-1) #right up\n",
    "        \n",
    "        turtle.right(90)\n",
    "        turtle.forward(size/3)\n",
    "        turtle.left(90)\n",
    "        serpn_c(size/3, n-1) #right center\n",
    "        \n",
    "        turtle.right(90)\n",
    "        turtle.forward(size/3)\n",
    "        turtle.left(90)\n",
    "        serpn_c(size/3, n-1) #right down\n",
    "        \n",
    "        turtle.right(180)\n",
    "        turtle.forward(size/3)\n",
    "        turtle.left(180)\n",
    "        serpn_c(size/3, n-1) #center down\n",
    "        turtle.goto(x, y)\n",
    "        \n",
    "start = perf_counter()\n",
    "sierpinski_carpet(size, n)\n",
    "stop = perf_counter()\n",
    "print('Глубина рекурсии: ' + str(n))\n",
    "print('Время отрисовки: ' + str(stop-start))\n",
    "x = input('Введите любой символ, чтобы завершить работу программы. Пожалуйста, не закрывайте окно черепашки, если хотите продолжить проверку заданий!  ')\n",
    "turtle.reset()"
   ]
  },
  {
   "cell_type": "markdown",
   "metadata": {
    "id": "wDXHbUmMmhRL"
   },
   "source": [
    "Замеры отрисовки ковра Серпинского на максимальной скорости"
   ]
  },
  {
   "cell_type": "code",
   "execution_count": 93,
   "metadata": {},
   "outputs": [
    {
     "name": "stdout",
     "output_type": "stream",
     "text": [
      "ковер Серпинского (глубина 1): 0.2796402999993006\n",
      "ковер Серпинского (глубина 2): 0.5456452999997055\n",
      "ковер Серпинского (глубина 3): 2.9435492999991766\n",
      "ковер Серпинского (глубина 4): 22.141449800000373\n",
      "ковер Серпинского (глубина 5): 181.30640589999985\n",
      "Пожалуйста, не закрывайте окно черепашки, если хотите продолжить проверку других заданий!\n"
     ]
    }
   ],
   "source": [
    "def timer_func (n):\n",
    "    size = 100\n",
    "    turtle.speed('fastest')\n",
    "    start = perf_counter()\n",
    "    sierpinski_carpet(size, n)\n",
    "    stop = perf_counter()\n",
    "    print('ковер Серпинского (глубина '+str(n)+'): ' + str(stop-start))\n",
    "timer_func(1)\n",
    "turtle.reset()\n",
    "timer_func(2)\n",
    "turtle.reset()\n",
    "timer_func(3)\n",
    "turtle.reset()\n",
    "timer_func(4)\n",
    "turtle.reset()\n",
    "timer_func(5)\n",
    "turtle.reset()\n",
    "print('Пожалуйста, не закрывайте окно черепашки, если хотите продолжить проверку других заданий!')"
   ]
  },
  {
   "cell_type": "code",
   "execution_count": 90,
   "metadata": {},
   "outputs": [
    {
     "name": "stdout",
     "output_type": "stream",
     "text": [
      "Введите глубину фрактала: 3\n",
      "Глубина рекурсии: 3\n",
      "Время отрисовки: 1.451564099999814\n",
      "Введите любой символ, чтобы завершить работу программы. Пожалуйста, не закрывайте окно черепашки, если хотите продолжить проверку других заданий!  1\n"
     ]
    }
   ],
   "source": [
    "from math import *\n",
    "size = 100\n",
    "n = int(input('Введите глубину фрактала: '))\n",
    "\n",
    "turtle.speed('fastest')\n",
    "\n",
    "def draw_square_p (size): \n",
    "    #turtle is looking where the figure should go\n",
    "    turtle.forward(size)\n",
    "    turtle.right(90)\n",
    "    turtle.forward(size)\n",
    "    turtle.right(90)\n",
    "    turtle.forward(size)\n",
    "    turtle.right(90)\n",
    "    turtle.forward(size)\n",
    "    turtle.right(90)\n",
    "    \n",
    "def pythagoras_tree (size, n):\n",
    "    turtle.setheading(90)\n",
    "    turtle.up()\n",
    "    turtle.goto(-200, -200)\n",
    "    turtle.down()\n",
    "    pyth(size, n)\n",
    "    \n",
    "def pyth (size, n):\n",
    "    if n == 1:\n",
    "        draw_square_p(size)\n",
    "    else:\n",
    "        x1 = turtle.xcor()\n",
    "        y1 = turtle.ycor()\n",
    "        angle = turtle.heading()\n",
    "        pyth (size, 1) #big square\n",
    "        \n",
    "        turtle.forward(size)\n",
    "        turtle.left(45)\n",
    "        pyth (size/sqrt(2), n-1) #left branch\n",
    "        \n",
    "        turtle.right(135)\n",
    "        turtle.forward(size)\n",
    "        turtle.left(135)\n",
    "        turtle.forward(size/sqrt(2))\n",
    "        turtle.right(90)\n",
    "        pyth (size/sqrt(2), n-1) #right branch\n",
    "        \n",
    "        turtle.up()\n",
    "        turtle.goto(x1, y1)\n",
    "        turtle.setheading(angle)\n",
    "        turtle.down()\n",
    "        \n",
    "start = perf_counter()\n",
    "pythagoras_tree(size, n)\n",
    "stop = perf_counter()\n",
    "print('Глубина рекурсии: ' + str(n))\n",
    "print('Время отрисовки: ' + str(stop-start))\n",
    "x = input('Введите любой символ, чтобы завершить работу программы. Пожалуйста, не закрывайте окно черепашки, если хотите продолжить проверку других заданий!  ')\n",
    "turtle.reset()"
   ]
  },
  {
   "cell_type": "markdown",
   "metadata": {
    "id": "wDXHbUmMmhRL"
   },
   "source": [
    "Замеры отрисовки дерева Пифагора на максимальной скорости"
   ]
  },
  {
   "cell_type": "code",
   "execution_count": 94,
   "metadata": {},
   "outputs": [
    {
     "name": "stdout",
     "output_type": "stream",
     "text": [
      "дерево Пифагора (глубина 1): 0.1869829999996\n",
      "дерево Пифагора (глубина 2): 0.6066689999997834\n",
      "дерево Пифагора (глубина 3): 1.454193800000212\n",
      "дерево Пифагора (глубина 4): 3.1281693999999334\n",
      "дерево Пифагора (глубина 5): 6.490855799998826\n"
     ]
    }
   ],
   "source": [
    "def timer_func (n):\n",
    "    size = 100\n",
    "    turtle.speed('fastest')\n",
    "    start = perf_counter()\n",
    "    pythagoras_tree(size, n)\n",
    "    stop = perf_counter()\n",
    "    print('дерево Пифагора (глубина '+str(n)+'): ' + str(stop-start))\n",
    "timer_func(1)\n",
    "turtle.reset()\n",
    "timer_func(2)\n",
    "turtle.reset()\n",
    "timer_func(3)\n",
    "turtle.reset()\n",
    "timer_func(4)\n",
    "turtle.reset()\n",
    "timer_func(5)\n",
    "turtle.mainloop()"
   ]
  },
  {
   "cell_type": "markdown",
   "metadata": {
    "id": "diOb-K7LnO5a"
   },
   "source": [
    "### Вывод"
   ]
  },
  {
   "cell_type": "markdown",
   "metadata": {
    "id": "wDXHbUmMmhRL"
   },
   "source": [
    "Мною была изучена рекурсия, придуманы алгоритмы отрисовки заданных фракталов, я научилась ползоваться модулем turtle!"
   ]
  }
 ],
 "metadata": {
  "colab": {
   "collapsed_sections": [],
   "name": "Lab5.ipynb",
   "provenance": []
  },
  "kernelspec": {
   "display_name": "Python 3 (ipykernel)",
   "language": "python",
   "name": "python3"
  },
  "language_info": {
   "codemirror_mode": {
    "name": "ipython",
    "version": 3
   },
   "file_extension": ".py",
   "mimetype": "text/x-python",
   "name": "python",
   "nbconvert_exporter": "python",
   "pygments_lexer": "ipython3",
   "version": "3.10.2"
  }
 },
 "nbformat": 4,
 "nbformat_minor": 1
}
