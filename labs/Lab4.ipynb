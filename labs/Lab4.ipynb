{
 "cells": [
  {
   "cell_type": "markdown",
   "id": "fifteen-sailing",
   "metadata": {},
   "source": [
    "# Лабораторная работа №4\n",
    "## Выполнила студентка группы БФИ 2001 Ахматова Александра Ивановна"
   ]
  },
  {
   "cell_type": "markdown",
   "id": "arctic-stocks",
   "metadata": {},
   "source": [
    "Реализовать следующие структуры данных:\n",
    "  \n",
    "● <b> Стек (stack): </b>  \n",
    "Операции для стека: \n",
    "<i> инициализация, проверка на пустоту, добавление нового элемента в начало, извлечение элемента из начала;  </i>  \n"
   ]
  },
  {
   "cell_type": "markdown",
   "id": "342543e1",
   "metadata": {},
   "source": [
    "● <b> Дек (двусторонняя очередь, deque):  </b>  \n",
    "Операции для дека: \n",
    "<i> инициализация, проверка на пустоту, добавление нового элемента в начало, добавление нового элемента в конец, извлечение элемента из начала, извлечение элемента из конца. </i>  \n",
    "  \n",
    "<i> Разработать программу обработки данных, содержащихся в заранее подготовленном txt-файле, в соответствии с заданиями, применив указанную в задании структуру данных. Результат работы программы вывести на экран и сохранить в отдельном txt-файле. </i>"
   ]
  },
  {
   "cell_type": "code",
   "execution_count": 1,
   "id": "202c0013",
   "metadata": {},
   "outputs": [
    {
     "name": "stdout",
     "output_type": "stream",
     "text": [
      "True\n",
      "3\n",
      "2\n",
      "2\n"
     ]
    }
   ],
   "source": [
    "#стек\n",
    "\n",
    "#инициализация\n",
    "stack = []\n",
    "\n",
    "#проверка на пустоту\n",
    "print(len(stack) == 0)\n",
    "\n",
    "#добавление нового элемента в начало\n",
    "stack.append(1)\n",
    "stack.append(2)\n",
    "stack.append(3)\n",
    "\n",
    "#извлечение элемента из начала\n",
    "print(stack.pop())\n",
    "\n",
    "#просмотр верхнего элемента\n",
    "print(stack[-1])\n",
    "\n",
    "#определение размера\n",
    "print(len(stack))"
   ]
  },
  {
   "cell_type": "code",
   "execution_count": 2,
   "id": "49eb0a45",
   "metadata": {},
   "outputs": [
    {
     "name": "stdout",
     "output_type": "stream",
     "text": [
      "True\n",
      "deque([-2, -1, 0])\n",
      "deque([-2, -1, 0, 1, 2, 3])\n",
      "-2\n",
      "3\n",
      "deque([-1, 0, 1, 2])\n",
      "-1\n",
      "2\n",
      "4\n"
     ]
    }
   ],
   "source": [
    "#дек\n",
    "from collections import deque\n",
    "\n",
    "#инициализация\n",
    "dec = deque()\n",
    "\n",
    "#проверка на пустоту\n",
    "print(len(dec) == 0)\n",
    "\n",
    "#добавление нового элемента в начало\n",
    "dec.appendleft(0)\n",
    "dec.appendleft(-1)\n",
    "dec.appendleft(-2)\n",
    "print(dec)\n",
    "\n",
    "#добавление нового элемента в конец\n",
    "dec.append(1)\n",
    "dec.append(2)\n",
    "dec.append(3)\n",
    "print(dec)\n",
    "\n",
    "#извлечение элемента из начала\n",
    "print(dec.popleft())\n",
    "\n",
    "#извлечение элемента из конца\n",
    "print(dec.pop())\n",
    "print(dec)\n",
    "\n",
    "#просмотр первого элемента\n",
    "print(dec[0])\n",
    "\n",
    "#просмотр последнего элемента\n",
    "print(dec[-1])\n",
    "\n",
    "#определение длины\n",
    "print(len(dec))"
   ]
  },
  {
   "cell_type": "markdown",
   "id": "5d7edb08",
   "metadata": {
    "scrolled": true
   },
   "source": [
    "### Задание №1\n",
    "Отсортировать строки файла, содержащие названия книг, в алфавитном порядке с использованием двух деков."
   ]
  },
  {
   "cell_type": "code",
   "execution_count": 31,
   "id": "17702ade",
   "metadata": {},
   "outputs": [
    {
     "name": "stdout",
     "output_type": "stream",
     "text": [
      "deque(['Страна багровых туч', 'Трудно быть богом', 'Попытка к бегству', 'Обитаемый остров', 'Улитка на склоне', 'Стажёры', 'Малыш', 'Пикник на обочине', 'Волны гасят ветер', 'Путь на Амальтею'])\n",
      "\n",
      "deque(['Волны гасят ветер', 'Малыш', 'Обитаемый остров', 'Пикник на обочине', 'Попытка к бегству', 'Путь на Амальтею', 'Стажёры', 'Страна багровых туч', 'Трудно быть богом', 'Улитка на склоне'])\n"
     ]
    }
   ],
   "source": [
    "from collections import deque\n",
    "import os\n",
    "\n",
    "dec = deque([])\n",
    "dec_sorted = deque([])\n",
    "\n",
    "with open('Lab4_txt/1.txt', encoding='utf-8') as file:\n",
    "    for i in file:\n",
    "        i = i.replace(\"\\n\", \"\")\n",
    "        dec.append(i)\n",
    "file.close()\n",
    "\n",
    "def answer_to_txt (dec):\n",
    "    file = open('Lab4_txt/1_ans.txt', 'w', encoding='utf-8')\n",
    "    while not (len(dec_sorted) == 0):\n",
    "        file.write(dec_sorted.popleft() + '\\n')\n",
    "    file.close()\n",
    "\n",
    "print(dec)\n",
    "    \n",
    "while len(dec) != 0:\n",
    "    big_boy = ''\n",
    "    if dec[0] > dec[-1]:         #1st > last\n",
    "        big_boy = dec.popleft()  #last > 1st\n",
    "    else:\n",
    "        big_boy = dec.pop()\n",
    "    \n",
    "    if (len(dec_sorted) == 0):      #if empty\n",
    "        dec_sorted.append(big_boy)\n",
    "    elif (len(dec_sorted) == 1):    #if has 1 element\n",
    "        if dec_sorted[0] < big_boy:\n",
    "            dec_sorted.append(big_boy)\n",
    "        else:\n",
    "            dec_sorted.appendleft(big_boy)\n",
    "    else:                           #if has 2+ elements\n",
    "        if dec_sorted[0] >= big_boy:            #gogo first\n",
    "            dec_sorted.appendleft(big_boy)\n",
    "        elif dec_sorted[-1] <= big_boy:         #gogo last\n",
    "            dec_sorted.append(big_boy)\n",
    "        else:                                  #well.. out u go, boys\n",
    "            big_boys_little_bro = dec_sorted[-1]\n",
    "            while big_boys_little_bro > big_boy:\n",
    "                big_boys_little_bro = dec_sorted.pop()\n",
    "                dec.append(big_boys_little_bro)\n",
    "                big_boys_little_bro = dec_sorted[-1]\n",
    "            dec_sorted.append(big_boy)\n",
    "\n",
    "print()\n",
    "print(dec_sorted)\n",
    "answer_to_txt(dec_sorted)\n"
   ]
  },
  {
   "cell_type": "markdown",
   "id": "49fbd2a0",
   "metadata": {},
   "source": [
    "### Задание №2\n",
    "Дек содержит последовательность символов для шифровки сообщений. Дан текстовый файл, содержащий зашифрованное сообщение. Пользуясь деком, расшифровать текст. \n",
    "Известно, что при шифровке каждый символ сообщения заменялся следующим за ним в деке по часовой стрелке через один."
   ]
  },
  {
   "cell_type": "code",
   "execution_count": 60,
   "id": "81cab7a8",
   "metadata": {},
   "outputs": [
    {
     "name": "stdout",
     "output_type": "stream",
     "text": [
      "ожкпижз цжто\n",
      "римский шифр\n"
     ]
    }
   ],
   "source": [
    "from collections import deque\n",
    "dec = deque([])\n",
    "for i in range(32):  #fill dec\n",
    "    dec.append(chr(ord(\"а\") + i))\n",
    "#print(dec)\n",
    "\n",
    "def find_letter (c):\n",
    "    while dec[-1] != c:\n",
    "        dec.appendleft(dec.pop())\n",
    "\n",
    "file = open('Lab4_txt/2.txt', encoding='utf-8')\n",
    "text = ''\n",
    "prev_text = ''\n",
    "for line in file:\n",
    "    for symb in line:\n",
    "        prev_text += symb\n",
    "        if symb >= 'а' and symb <= 'я':\n",
    "            find_letter(symb)\n",
    "            text += dec[1]\n",
    "        else:\n",
    "            text += symb\n",
    "file.close()      \n",
    "\n",
    "file = open('Lab4_txt/2_ans.txt', 'w', encoding='utf-8')\n",
    "file.write(text)\n",
    "file.close()\n",
    "\n",
    "print(prev_text)\n",
    "print(text)\n"
   ]
  },
  {
   "cell_type": "markdown",
   "id": "c0894f47",
   "metadata": {},
   "source": [
    "### Задание №3\n",
    "Даны три стержня и n дисков различного размера. Диски можно надевать на стержни, образуя из них башни. Перенести n дисков со стержня А на стержень С, сохранив их первоначальный порядок. При переносе дисков необходимо соблюдать следующие правила:\n",
    "- на каждом шаге со стержня на стержень переносить только один диск;\n",
    "- диск нельзя помещать на диск меньшего размера;\n",
    "- для промежуточного хранения можно использовать стержень В.\n",
    "Реализовать алгоритм, используя три стека вместо стержней А, В, С. Информация о дисках хранится в исходном файле."
   ]
  },
  {
   "cell_type": "code",
   "execution_count": 90,
   "id": "9e91a9d4",
   "metadata": {},
   "outputs": [
    {
     "name": "stdout",
     "output_type": "stream",
     "text": [
      "1\n",
      "2\n",
      "20\n",
      "25\n",
      "40\n"
     ]
    }
   ],
   "source": [
    "def move(a,b):\n",
    "    if len(a) == 0 and len(b) != 0:\n",
    "        a.append(b.pop())\n",
    "    elif len(a) != 0 and len(b) == 0:\n",
    "        b.append(a.pop())\n",
    "    elif len(a) == 0 and len(b) == 0:\n",
    "        return\n",
    "    elif a[-1] > b[-1]:\n",
    "        a.append(b.pop())\n",
    "    else:\n",
    "        b.append(a.pop())     \n",
    "\n",
    "stack_A= []\n",
    "stack_B= []\n",
    "stack_C= []\n",
    "rez=\"\"\n",
    "file = open('Lab4_txt/3.txt', encoding='utf-8')\n",
    "t = file.readlines()\n",
    "file.close()\n",
    "\n",
    "for i in range(len(t)):\n",
    "    rez=rez+t[i]\n",
    "disk=rez.split(\" \")\n",
    "\n",
    "for i in range(len(disk)):\n",
    "    stack_A.append(int(disk[i]))\n",
    "    \n",
    "if len(disk)%2==0:\n",
    "    while len(stack_C) is not len(disk):\n",
    "        move(stack_A, stack_B)\n",
    "        move(stack_A, stack_C)\n",
    "        if len(stack_C) is not len(disk):\n",
    "            move(stack_B, stack_C)\n",
    "else:\n",
    "    while len(stack_C) is not len(disk):\n",
    "        move(stack_A, stack_C)\n",
    "        move(stack_A, stack_B)\n",
    "        if len(stack_C) is not len(disk):\n",
    "            move(stack_B, stack_C)\n",
    "                \n",
    "res_text =\"\"\n",
    "for i in range(len(stack_C)):\n",
    "    res_text = res_text + str(stack_C[-1])\n",
    "    print(stack_C.pop())\n",
    "\n",
    "file_res = open('Lab4_txt/3_ans.txt', 'w', encoding='utf-8')\n",
    "file_res.write(res_text)\n",
    "file_res.close()"
   ]
  },
  {
   "cell_type": "markdown",
   "id": "e5b0be17",
   "metadata": {},
   "source": [
    "### Задание №4\n",
    "Дан текстовый файл с программой на алгоритмическом языке. За один просмотр файла проверить баланс круглых скобок в тексте, используя стек."
   ]
  },
  {
   "cell_type": "code",
   "execution_count": 67,
   "id": "5b1df60a",
   "metadata": {},
   "outputs": [
    {
     "name": "stdout",
     "output_type": "stream",
     "text": [
      "False\n"
     ]
    }
   ],
   "source": [
    "stack = []\n",
    "file = open('Lab4_txt/4.txt', encoding='utf-8')\n",
    "\n",
    "ok_fl = True\n",
    "for line in file:\n",
    "    if not ok_fl:\n",
    "        break\n",
    "    for sym in line:\n",
    "        if sym == '(':\n",
    "            stack.append(sym)\n",
    "        elif sym == ')':\n",
    "            if len(stack) != 0:\n",
    "                stack.pop()\n",
    "            else:\n",
    "                ok_fl = False\n",
    "                break\n",
    "file.close()\n",
    "\n",
    "file = open('Lab4_txt/4_ans.txt','w', encoding='utf-8')\n",
    "if ok_fl and len(stack) == 0:\n",
    "    print(True)\n",
    "    file.write(\"True\")\n",
    "else:\n",
    "    print(False)\n",
    "    file.write(\"False\")\n",
    "file.close()"
   ]
  },
  {
   "cell_type": "markdown",
   "id": "c44cdd6b",
   "metadata": {},
   "source": [
    "### Задание №5\n",
    "Дан текстовый файл с программой на алгоритмическом языке. За один просмотр файла проверить баланс квадратных скобок в тексте, используя дек."
   ]
  },
  {
   "cell_type": "code",
   "execution_count": 70,
   "id": "36b8f400",
   "metadata": {},
   "outputs": [
    {
     "name": "stdout",
     "output_type": "stream",
     "text": [
      "True\n"
     ]
    }
   ],
   "source": [
    "dec = deque([])\n",
    "file = open('Lab4_txt/5.txt', encoding='utf-8')\n",
    "\n",
    "ok_fl = True\n",
    "for line in file:\n",
    "    if not ok_fl:\n",
    "        break\n",
    "    for symb in line:\n",
    "        if symb == '(':\n",
    "            dec.append(symb)\n",
    "        elif symb == ')':\n",
    "            if len(dec) != 0:\n",
    "                dec.pop()\n",
    "            else:\n",
    "                ok_fl = False\n",
    "                break\n",
    "file.close()\n",
    "\n",
    "file = open('Lab4_txt/5_ans.txt','w', encoding='utf-8')\n",
    "if ok_fl and len(dec) == 0:\n",
    "    print(True)\n",
    "    file.write(\"True\")\n",
    "else:\n",
    "    print(False)\n",
    "    file.write(\"False\")\n",
    "file.close()"
   ]
  },
  {
   "cell_type": "markdown",
   "id": "59d13dc7",
   "metadata": {},
   "source": [
    "### Задание №6\n",
    "Дан файл из символов. Используя стек, за один просмотр файла напечатать сначала все цифры, затем все буквы, и, наконец, все остальные символы, сохраняя исходный порядок в каждой группе символов."
   ]
  },
  {
   "cell_type": "code",
   "execution_count": 75,
   "id": "297e36c2",
   "metadata": {},
   "outputs": [
    {
     "name": "stdout",
     "output_type": "stream",
     "text": [
      "12345abc () !\n"
     ]
    }
   ],
   "source": [
    "numbers = []\n",
    "letters = []\n",
    "other = []\n",
    "file = open('Lab4_txt/6.txt', encoding='utf-8')\n",
    "for line in file:\n",
    "    for symb in line:\n",
    "        if symb >= '0' and symb <= '9':\n",
    "            numbers.append(symb)\n",
    "        elif symb >= 'a' and symb <= 'z' or symb >= 'A' and symb <= 'Z':\n",
    "            letters.append(symb)\n",
    "        else:\n",
    "            other.append(symb)\n",
    "file.close()\n",
    "file = open('Lab4_txt/6_ans.txt','w', encoding='utf-8')\n",
    "text = ''\n",
    "while len(other) != 0:\n",
    "    text = other.pop() + text\n",
    "while len(letters) != 0:\n",
    "    text = letters.pop() + text\n",
    "while len(numbers) != 0:\n",
    "    text = numbers.pop() + text\n",
    "print(text)\n",
    "file.write(text)\n",
    "file.close()"
   ]
  },
  {
   "cell_type": "markdown",
   "id": "973f68bd",
   "metadata": {},
   "source": [
    "### Задание №7\n",
    "Дан файл из целых чисел. Используя дек, за один просмотр файла напечатать сначала все отрицательные числа, затем все положительные числа, сохраняя исходный порядок в каждой группе."
   ]
  },
  {
   "cell_type": "code",
   "execution_count": 76,
   "id": "c56fad66",
   "metadata": {},
   "outputs": [
    {
     "name": "stdout",
     "output_type": "stream",
     "text": [
      "-2\n",
      "-9\n",
      "-3\n",
      "-1\n",
      "1\n",
      "5\n",
      "12\n",
      "0\n",
      "7\n",
      "2\n"
     ]
    }
   ],
   "source": [
    "dec = deque([])\n",
    "file = open('Lab4_txt/7.txt', encoding='utf-8')\n",
    "file_ans = open('Lab4_txt/7_ans.txt','w', encoding='utf-8')\n",
    "text = ''\n",
    "for line in file:\n",
    "    line = line.rstrip()\n",
    "    num = int(line)\n",
    "    if num < 0 :\n",
    "        print(line)\n",
    "        file_ans.write(line + '\\n')\n",
    "    else:\n",
    "        dec.appendleft(line)\n",
    "while len(dec) != 0:\n",
    "    line = dec.pop()\n",
    "    print(line)\n",
    "    file_ans.write(line + '\\n')\n",
    "\n",
    "file.close()\n",
    "file_ans.close()"
   ]
  },
  {
   "cell_type": "markdown",
   "id": "b9228191",
   "metadata": {},
   "source": [
    "### Задание №8\n",
    "Дан текстовый файл. Используя стек, сформировать новый текстовый файл, содержащий строки исходного файла, записанные в обратном порядке: первая строка становится последней, вторая – предпоследней и т.д."
   ]
  },
  {
   "cell_type": "code",
   "execution_count": 88,
   "id": "981fbdfe",
   "metadata": {},
   "outputs": [
    {
     "name": "stdout",
     "output_type": "stream",
     "text": [
      "Killer on the road, yeah\n",
      "Sweet family will die\n",
      "If you give this man a ride\n",
      "Let your children play\n",
      "Take a long holiday\n",
      "His brain is squirmin' like a toad\n",
      "There's a killer on the road\n",
      "\n",
      "Riders on the storm\n",
      "An actor out on loan\n",
      "Like a dog without a bone\n",
      "Into this world, we're thrown\n",
      "Into this house, we're born\n",
      "Riders on the storm\n",
      "Riders on the storm\n",
      "\n"
     ]
    }
   ],
   "source": [
    "file = open('Lab4_txt/8.txt', encoding='utf-8')\n",
    "stack = []\n",
    "for line in file:\n",
    "    stack.append(line)\n",
    "file.close()\n",
    "file = open('Lab4_txt/8_ans.txt','w', encoding='utf-8')\n",
    "text = ''\n",
    "while len(stack) != 0:\n",
    "    tmp = stack.pop()\n",
    "    text += tmp\n",
    "    file.write(tmp)\n",
    "\n",
    "print(text)\n",
    "file.close()"
   ]
  },
  {
   "cell_type": "markdown",
   "id": "rental-jerusalem",
   "metadata": {},
   "source": [
    "### Вывод\n"
   ]
  },
  {
   "cell_type": "markdown",
   "id": "0c2b8899",
   "metadata": {},
   "source": []
  }
 ],
 "metadata": {
  "kernelspec": {
   "display_name": "Python 3 (ipykernel)",
   "language": "python",
   "name": "python3"
  },
  "language_info": {
   "codemirror_mode": {
    "name": "ipython",
    "version": 3
   },
   "file_extension": ".py",
   "mimetype": "text/x-python",
   "name": "python",
   "nbconvert_exporter": "python",
   "pygments_lexer": "ipython3",
   "version": "3.10.2"
  }
 },
 "nbformat": 4,
 "nbformat_minor": 5
}
