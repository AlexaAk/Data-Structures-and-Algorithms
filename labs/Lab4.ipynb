{
 "cells": [
  {
   "cell_type": "markdown",
   "id": "fifteen-sailing",
   "metadata": {},
   "source": [
    "# Лабораторная работа №4\n",
    "## Выполнила студентка группы БФИ 2001 Ахматова Александра Ивановна"
   ]
  },
  {
   "cell_type": "markdown",
   "id": "arctic-stocks",
   "metadata": {},
   "source": [
    "Реализовать следующие структуры данных:\n",
    "  \n",
    "● <b> Стек (stack): </b>  \n",
    "Операции для стека: \n",
    "<i> инициализация, проверка на пустоту, добавление нового элемента в начало, извлечение элемента из начала;  </i>  \n"
   ]
  },
  {
   "cell_type": "markdown",
   "id": "342543e1",
   "metadata": {},
   "source": [
    "● <b> Дек (двусторонняя очередь, deque):  </b>  \n",
    "Операции для дека: \n",
    "<i> инициализация, проверка на пустоту, добавление нового элемента в начало, добавление нового элемента в конец, извлечение элемента из начала, извлечение элемента из конца. </i>  \n",
    "  \n",
    "<i> Разработать программу обработки данных, содержащихся в заранее подготовленном txt-файле, в соответствии с заданиями, применив указанную в задании структуру данных. Результат работы программы вывести на экран и сохранить в отдельном txt-файле. </i>"
   ]
  },
  {
   "cell_type": "code",
   "execution_count": 88,
   "id": "202c0013",
   "metadata": {},
   "outputs": [
    {
     "name": "stdout",
     "output_type": "stream",
     "text": [
      "stack content: 12, 2, 5, 13\n",
      "13\n",
      "stack content: 12, 2, 5\n",
      "5\n",
      "3\n"
     ]
    }
   ],
   "source": [
    "#стек\n",
    "\n",
    "class Stack (object):\n",
    "    \n",
    "    #инициализация\n",
    "    def __init__ (self):\n",
    "        self.list = []\n",
    "    \n",
    "    #проверка на пустоту\n",
    "    def is_empty (self):\n",
    "        return len(self.list) == 0\n",
    "    \n",
    "    #добавление нового элемента в конец\n",
    "    def push (self, item):\n",
    "        self.list.append(item)\n",
    "        \n",
    "    #извлечение элемента из конца\n",
    "    def pop (self):\n",
    "        return self.list.pop()\n",
    "        \n",
    "    #просмотр верхнего элемента\n",
    "    def top (self):\n",
    "        if not self.is_empty():\n",
    "            return self.list[-1]\n",
    "        \n",
    "    #определение размера\n",
    "    def length (self):\n",
    "        return len(self.list)\n",
    "    \n",
    "    #вывод содержимого на экран\n",
    "    def print_content (self):\n",
    "        s = \"stack content: \"\n",
    "        for item in self.list:\n",
    "            s += str(item) + ', '\n",
    "        print (s[:len(s)-2])\n",
    "\n",
    "stack = Stack()\n",
    "stack.push(12)\n",
    "stack.push(2)\n",
    "stack.push(5)\n",
    "stack.push(13)\n",
    "stack.print_content()\n",
    "print(stack.pop())\n",
    "stack.print_content()\n",
    "print(stack.top())\n",
    "print(stack.length())"
   ]
  },
  {
   "cell_type": "code",
   "execution_count": 89,
   "id": "49eb0a45",
   "metadata": {},
   "outputs": [
    {
     "name": "stdout",
     "output_type": "stream",
     "text": [
      "deque content: -1, 0, 1, 2, 3\n",
      "3\n",
      "-1\n",
      "deque content: 0, 1, 2\n",
      "2\n",
      "0\n",
      "3\n"
     ]
    }
   ],
   "source": [
    "#дек\n",
    "\n",
    "class Deque (object):\n",
    "    \n",
    "    #инициализация\n",
    "    def __init__ (self):\n",
    "        self.list = []\n",
    "    \n",
    "    #проверка на пустоту\n",
    "    def is_empty (self):\n",
    "        return len(self.list) == 0\n",
    "    \n",
    "    #добавление нового элемента в конец (в верх)\n",
    "    def push_back (self, item):\n",
    "        self.list.append(item)\n",
    "        \n",
    "    #извлечение элемента из конца (сверху)\n",
    "    def pop_back (self):\n",
    "        return self.list.pop()\n",
    "        \n",
    "    #добавление нового элемента в начало (в низ)\n",
    "    def push_front (self, item):\n",
    "        self.list.insert(0, item)\n",
    "        \n",
    "    #извлечение элемента из начала (снизу)\n",
    "    def pop_front (self):\n",
    "        ans = self.list[0]\n",
    "        del self.list[0]\n",
    "        return ans\n",
    "        \n",
    "    #просмотр верхнего элемента\n",
    "    def top (self):\n",
    "        if not self.is_empty():\n",
    "            return self.list[-1]\n",
    "    \n",
    "    #просмотр нижнего элемента\n",
    "    def back (self):\n",
    "        if not self.is_empty():\n",
    "            return self.list[0]\n",
    "        \n",
    "    #определение размера\n",
    "    def length (self):\n",
    "        return len(self.list)\n",
    "    \n",
    "    #вывод содержимого на экран\n",
    "    def print_content (self):\n",
    "        s = \"deque content: \"\n",
    "        for item in self.list:\n",
    "            s += str(item) + ', '\n",
    "        print (s[:len(s)-2])\n",
    "\n",
    "deq = Deque()\n",
    "deq.push_back(1)\n",
    "deq.push_back(2)\n",
    "deq.push_back(3)\n",
    "deq.push_front(0)\n",
    "deq.push_front(-1)\n",
    "deq.print_content()\n",
    "print(deq.pop_back())\n",
    "print(deq.pop_front())\n",
    "deq.print_content()\n",
    "print(deq.top())\n",
    "print(deq.back())\n",
    "print(deq.length())"
   ]
  },
  {
   "cell_type": "markdown",
   "id": "5d7edb08",
   "metadata": {
    "scrolled": true
   },
   "source": [
    "### Задание №1\n",
    "Отсортировать строки файла, содержащие названия книг, в алфавитном порядке с использованием двух деков."
   ]
  },
  {
   "cell_type": "code",
   "execution_count": 90,
   "id": "17702ade",
   "metadata": {},
   "outputs": [
    {
     "name": "stdout",
     "output_type": "stream",
     "text": [
      "deque content: Страна багровых туч, Трудно быть богом, Попытка к бегству, Обитаемый остров, Улитка на склоне, Стажёры, Малыш, Пикник на обочине, Волны гасят ветер, Путь на Амальтею\n",
      "\n",
      "deque content: Волны гасят ветер, Малыш, Обитаемый остров, Пикник на обочине, Попытка к бегству, Путь на Амальтею, Стажёры, Страна багровых туч, Трудно быть богом, Улитка на склоне\n"
     ]
    }
   ],
   "source": [
    "deq = Deque()\n",
    "deq_sorted = Deque()\n",
    "\n",
    "with open('Lab4_txt/1.txt', encoding='utf-8') as file:\n",
    "    for i in file:\n",
    "        i = i.replace(\"\\n\", \"\")\n",
    "        deq.push_back(i)\n",
    "file.close()\n",
    "\n",
    "def answer_to_txt (deq):\n",
    "    file = open('Lab4_txt/1_ans.txt', 'w', encoding='utf-8')\n",
    "    while not deq_sorted.is_empty() :\n",
    "        file.write(str(deq_sorted.pop_front()) + '\\n')\n",
    "    file.close()\n",
    "\n",
    "deq.print_content()\n",
    "    \n",
    "while not deq.is_empty():\n",
    "    big_boy = ''\n",
    "    if deq.back() > deq.top():         #1st > last\n",
    "        big_boy = deq.pop_front()  #last > 1st\n",
    "    else:\n",
    "        big_boy = deq.pop_back()\n",
    "\n",
    "    if deq_sorted.is_empty():      #if empty\n",
    "        deq_sorted.push_back(big_boy)\n",
    "    elif (deq_sorted.length() == 1):    #if has 1 element\n",
    "        if deq_sorted.back() < big_boy:\n",
    "            deq_sorted.push_back(big_boy)\n",
    "        else:\n",
    "            deq_sorted.push_front(big_boy)\n",
    "    else:                           #if has 2+ elements\n",
    "        if deq_sorted.back() >= big_boy:            #gogo first\n",
    "            deq_sorted.push_front(big_boy)\n",
    "        elif deq_sorted.top() <= big_boy:         #gogo last\n",
    "            deq_sorted.push_back(big_boy)\n",
    "        else:                                  #well.. out u go, boys\n",
    "            big_boys_little_bro = deq_sorted.top()\n",
    "            while big_boys_little_bro > big_boy:\n",
    "                big_boys_little_bro = deq_sorted.pop_back()\n",
    "                deq.push_back(big_boys_little_bro)\n",
    "                big_boys_little_bro = deq_sorted.top()\n",
    "            deq_sorted.push_back(big_boy)\n",
    "\n",
    "print()\n",
    "deq_sorted.print_content()\n",
    "answer_to_txt(deq_sorted)\n"
   ]
  },
  {
   "cell_type": "markdown",
   "id": "49fbd2a0",
   "metadata": {},
   "source": [
    "### Задание №2\n",
    "Дек содержит последовательность символов для шифровки сообщений. Дан текстовый файл, содержащий зашифрованное сообщение. Пользуясь деком, расшифровать текст. \n",
    "Известно, что при шифровке каждый символ сообщения заменялся следующим за ним в деке по часовой стрелке через один."
   ]
  },
  {
   "cell_type": "code",
   "execution_count": 91,
   "id": "81cab7a8",
   "metadata": {},
   "outputs": [
    {
     "name": "stdout",
     "output_type": "stream",
     "text": [
      "ожкпижз цжто\n",
      "римский шифр\n"
     ]
    }
   ],
   "source": [
    "deq = Deque()\n",
    "for i in range(32):  #fill dec\n",
    "    deq.push_back(chr(ord(\"а\") + i))\n",
    "\n",
    "def find_letter (c):\n",
    "    while deq.top() != c:\n",
    "        deq.push_front(deq.pop_back())\n",
    "    #here c is on the top and its value is second from the bottom, lets bring the value to the bottom\n",
    "    deq.push_back(deq.pop_front())\n",
    "\n",
    "file = open('Lab4_txt/2.txt', encoding='utf-8')\n",
    "text = ''\n",
    "prev_text = ''\n",
    "for line in file:\n",
    "    for symb in line:\n",
    "        prev_text += symb\n",
    "        if symb >= 'а' and symb <= 'я':\n",
    "            find_letter(symb)\n",
    "            text += deq.back()\n",
    "        else:\n",
    "            text += symb\n",
    "file.close()      \n",
    "\n",
    "file = open('Lab4_txt/2_ans.txt', 'w', encoding='utf-8')\n",
    "file.write(text)\n",
    "file.close()\n",
    "\n",
    "print(prev_text)\n",
    "print(text)\n"
   ]
  },
  {
   "cell_type": "markdown",
   "id": "c0894f47",
   "metadata": {},
   "source": [
    "### Задание №3\n",
    "Даны три стержня и n дисков различного размера. Диски можно надевать на стержни, образуя из них башни. Перенести n дисков со стержня А на стержень С, сохранив их первоначальный порядок. При переносе дисков необходимо соблюдать следующие правила:\n",
    "- на каждом шаге со стержня на стержень переносить только один диск;\n",
    "- диск нельзя помещать на диск меньшего размера;\n",
    "- для промежуточного хранения можно использовать стержень В.\n",
    "Реализовать алгоритм, используя три стека вместо стержней А, В, С. Информация о дисках хранится в исходном файле."
   ]
  },
  {
   "cell_type": "code",
   "execution_count": 119,
   "id": "9e91a9d4",
   "metadata": {
    "scrolled": true
   },
   "outputs": [
    {
     "name": "stdout",
     "output_type": "stream",
     "text": [
      "Сколько дисков вы хотите перенести? (не больше 5)   5\n",
      "A: \n",
      "stack content: 17, 24, 52, 11, 3\n",
      "C: \n",
      "stack content: 3, 11, 17, 24, 52\n"
     ]
    }
   ],
   "source": [
    "def move(a,b):\n",
    "    if a.length() == 0 and b.length() != 0:\n",
    "        a.push(b.pop())\n",
    "    elif a.length() != 0 and b.length() == 0:\n",
    "        b.push(a.pop())\n",
    "    elif a.length() == 0 and b.length() == 0:\n",
    "        return\n",
    "    elif a.top() < b.top():\n",
    "        a.push(b.pop())\n",
    "    else:\n",
    "        b.push(a.pop())     \n",
    "\n",
    "stack_a = Stack()\n",
    "stack_b = Stack()\n",
    "stack_c = Stack()\n",
    "stack_a.push(17)\n",
    "stack_a.push(24)\n",
    "stack_a.push(52)\n",
    "stack_a.push(11)\n",
    "stack_a.push(3)\n",
    "n = -1\n",
    "while n > stack_a.length() or n <= 0:\n",
    "    n = int (input('Сколько дисков вы хотите перенести? (не больше 5)   '))\n",
    "    if n > stack_a.length() or n <= 0:\n",
    "        print ('Такое число не подходит!')\n",
    "print('A: ')\n",
    "stack_a.print_content()\n",
    "\n",
    "if n%2==0:\n",
    "    while stack_c.length() != n:\n",
    "        move(stack_a, stack_b)\n",
    "        move(stack_a, stack_c)\n",
    "        if stack_c.length() != n:\n",
    "            move(stack_b, stack_c)\n",
    "else:\n",
    "    while stack_c.length() != n:\n",
    "        move(stack_a, stack_c)\n",
    "        move(stack_a, stack_b)\n",
    "        if stack_c.length() != n:\n",
    "            move(stack_b, stack_c)\n",
    "print('C: ')\n",
    "stack_c.print_content()\n",
    "\n"
   ]
  },
  {
   "cell_type": "markdown",
   "id": "e5b0be17",
   "metadata": {},
   "source": [
    "### Задание №4\n",
    "Дан текстовый файл с программой на алгоритмическом языке. За один просмотр файла проверить баланс круглых скобок в тексте, используя стек."
   ]
  },
  {
   "cell_type": "code",
   "execution_count": 129,
   "id": "5b1df60a",
   "metadata": {},
   "outputs": [
    {
     "name": "stdout",
     "output_type": "stream",
     "text": [
      "False\n"
     ]
    }
   ],
   "source": [
    "stack = Stack()\n",
    "file = open('Lab4_txt/4.txt', encoding='utf-8')\n",
    "\n",
    "ok_fl = True\n",
    "for line in file:\n",
    "    if not ok_fl:\n",
    "        break\n",
    "    for sym in line:\n",
    "        if sym == '(':\n",
    "            stack.push(sym)\n",
    "        elif sym == ')':\n",
    "            if stack.length() != 0:\n",
    "                stack.pop()\n",
    "            else:\n",
    "                ok_fl = False\n",
    "                break\n",
    "file.close()\n",
    "\n",
    "file = open('Lab4_txt/4_ans.txt','w', encoding='utf-8')\n",
    "if ok_fl and stack.length() == 0:\n",
    "    print(True)\n",
    "    file.write(\"True\")\n",
    "else:\n",
    "    print(False)\n",
    "    file.write(\"False\")\n",
    "file.close()"
   ]
  },
  {
   "cell_type": "markdown",
   "id": "c44cdd6b",
   "metadata": {},
   "source": [
    "### Задание №5\n",
    "Дан текстовый файл с программой на алгоритмическом языке. За один просмотр файла проверить баланс квадратных скобок в тексте, используя дек."
   ]
  },
  {
   "cell_type": "code",
   "execution_count": 127,
   "id": "36b8f400",
   "metadata": {},
   "outputs": [
    {
     "name": "stdout",
     "output_type": "stream",
     "text": [
      "True\n"
     ]
    }
   ],
   "source": [
    "dec = Deque()\n",
    "file = open('Lab4_txt/5.txt', encoding='utf-8')\n",
    "\n",
    "ok_fl = True\n",
    "for line in file:\n",
    "    if not ok_fl:\n",
    "        break\n",
    "    for symb in line:\n",
    "        if symb == '[':\n",
    "            dec.push_back(symb)\n",
    "        elif symb == ']':\n",
    "            if dec.length() != 0:\n",
    "                dec.pop_back()\n",
    "            else:\n",
    "                ok_fl = False\n",
    "                break\n",
    "file.close()\n",
    "\n",
    "file = open('Lab4_txt/5_ans.txt','w', encoding='utf-8')\n",
    "if ok_fl and dec.length() == 0:\n",
    "    print(True)\n",
    "    file.write(\"True\")\n",
    "else:\n",
    "    print(False)\n",
    "    file.write(\"False\")\n",
    "file.close()"
   ]
  },
  {
   "cell_type": "markdown",
   "id": "59d13dc7",
   "metadata": {},
   "source": [
    "### Задание №6\n",
    "Дан файл из символов. Используя стек, за один просмотр файла напечатать сначала все цифры, затем все буквы, и, наконец, все остальные символы, сохраняя исходный порядок в каждой группе символов."
   ]
  },
  {
   "cell_type": "code",
   "execution_count": 123,
   "id": "297e36c2",
   "metadata": {},
   "outputs": [
    {
     "name": "stdout",
     "output_type": "stream",
     "text": [
      "12345abc () !\n"
     ]
    }
   ],
   "source": [
    "numbers = Stack()\n",
    "letters = Stack()\n",
    "other = Stack()\n",
    "file = open('Lab4_txt/6.txt', encoding='utf-8')\n",
    "for line in file:\n",
    "    for symb in line:\n",
    "        if symb >= '0' and symb <= '9':\n",
    "            numbers.push(symb)\n",
    "        elif symb >= 'a' and symb <= 'z' or symb >= 'A' and symb <= 'Z':\n",
    "            letters.push(symb)\n",
    "        else:\n",
    "            other.push(symb)\n",
    "file.close()\n",
    "file = open('Lab4_txt/6_ans.txt','w', encoding='utf-8')\n",
    "text = ''\n",
    "while other.length() != 0:\n",
    "    text = other.pop() + text\n",
    "while letters.length() != 0:\n",
    "    text = letters.pop() + text\n",
    "while numbers.length() != 0:\n",
    "    text = numbers.pop() + text\n",
    "print(text)\n",
    "file.write(text)\n",
    "file.close()"
   ]
  },
  {
   "cell_type": "markdown",
   "id": "973f68bd",
   "metadata": {},
   "source": [
    "### Задание №7\n",
    "Дан файл из целых чисел. Используя дек, за один просмотр файла напечатать сначала все отрицательные числа, затем все положительные числа, сохраняя исходный порядок в каждой группе."
   ]
  },
  {
   "cell_type": "code",
   "execution_count": 125,
   "id": "c56fad66",
   "metadata": {},
   "outputs": [
    {
     "name": "stdout",
     "output_type": "stream",
     "text": [
      "-2\n",
      "-9\n",
      "-3\n",
      "-1\n",
      "1\n",
      "5\n",
      "12\n",
      "0\n",
      "7\n",
      "2\n"
     ]
    }
   ],
   "source": [
    "dec = Deque()\n",
    "file = open('Lab4_txt/7.txt', encoding='utf-8')\n",
    "file_ans = open('Lab4_txt/7_ans.txt','w', encoding='utf-8')\n",
    "text = ''\n",
    "for line in file:\n",
    "    line = line.rstrip()\n",
    "    num = int(line)\n",
    "    if num < 0 :  #если отрицательное - печатаем сразу\n",
    "        print(line)\n",
    "        file_ans.write(line + '\\n')\n",
    "    else:       #если положительное - отложим на попозже\n",
    "        dec.push_front(line)\n",
    "while dec.length() != 0:\n",
    "    line = dec.pop_back()\n",
    "    print(line)\n",
    "    file_ans.write(line + '\\n')\n",
    "\n",
    "file.close()\n",
    "file_ans.close()"
   ]
  },
  {
   "cell_type": "markdown",
   "id": "b9228191",
   "metadata": {},
   "source": [
    "### Задание №8\n",
    "Дан текстовый файл. Используя стек, сформировать новый текстовый файл, содержащий строки исходного файла, записанные в обратном порядке: первая строка становится последней, вторая – предпоследней и т.д."
   ]
  },
  {
   "cell_type": "code",
   "execution_count": 126,
   "id": "981fbdfe",
   "metadata": {},
   "outputs": [
    {
     "name": "stdout",
     "output_type": "stream",
     "text": [
      "Killer on the road, yeah\n",
      "Sweet family will die\n",
      "If you give this man a ride\n",
      "Let your children play\n",
      "Take a long holiday\n",
      "His brain is squirmin' like a toad\n",
      "There's a killer on the road\n",
      "\n",
      "Riders on the storm\n",
      "An actor out on loan\n",
      "Like a dog without a bone\n",
      "Into this world, we're thrown\n",
      "Into this house, we're born\n",
      "Riders on the storm\n",
      "Riders on the storm\n",
      "\n"
     ]
    }
   ],
   "source": [
    "file = open('Lab4_txt/8.txt', encoding='utf-8')\n",
    "stack = Stack()\n",
    "for line in file:\n",
    "    stack.push(line)\n",
    "file.close()\n",
    "file = open('Lab4_txt/8_ans.txt','w', encoding='utf-8')\n",
    "text = ''\n",
    "while stack.length() != 0:\n",
    "    tmp = stack.pop()\n",
    "    text += tmp\n",
    "    file.write(tmp)\n",
    "\n",
    "print(text)\n",
    "file.close()"
   ]
  },
  {
   "cell_type": "markdown",
   "id": "rental-jerusalem",
   "metadata": {},
   "source": [
    "### Вывод\n"
   ]
  },
  {
   "cell_type": "markdown",
   "id": "0c2b8899",
   "metadata": {},
   "source": []
  }
 ],
 "metadata": {
  "kernelspec": {
   "display_name": "Python 3 (ipykernel)",
   "language": "python",
   "name": "python3"
  },
  "language_info": {
   "codemirror_mode": {
    "name": "ipython",
    "version": 3
   },
   "file_extension": ".py",
   "mimetype": "text/x-python",
   "name": "python",
   "nbconvert_exporter": "python",
   "pygments_lexer": "ipython3",
   "version": "3.10.2"
  }
 },
 "nbformat": 4,
 "nbformat_minor": 5
}
