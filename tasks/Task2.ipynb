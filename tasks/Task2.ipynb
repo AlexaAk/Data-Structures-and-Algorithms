{
 "cells": [
  {
   "cell_type": "markdown",
   "id": "arctic-stocks",
   "metadata": {},
   "source": [
    "### Задание №1\n",
    "Массив A состоит из целых положительных чисел длин отрезков. Составьте из трех отрезков такой треугольник, чтобы его периметр был максимально возможным. Если невозможно составить треугольник с положительной площадью функция возвращает 0."
   ]
  },
  {
   "cell_type": "code",
   "execution_count": 55,
   "id": "caring-truck",
   "metadata": {
    "scrolled": false
   },
   "outputs": [
    {
     "name": "stdout",
     "output_type": "stream",
     "text": [
      "[10, 7, 5]\n"
     ]
    }
   ],
   "source": [
    "mas = [5, 2, 7, 1, 10]\n",
    "\n",
    "mas = sorted(mas, reverse=True)\n",
    "fl = True\n",
    "for i in range(len(mas) - 2):\n",
    "    if mas[i] < sum(mas[i + 1:i + 3]):\n",
    "        print(mas[i:i + 3])\n",
    "        fl = False\n",
    "        break\n",
    "if fl:\n",
    "    print(0)\n"
   ]
  },
  {
   "cell_type": "markdown",
   "id": "maritime-conversation",
   "metadata": {},
   "source": [
    "### Задание №2\n",
    "Дан массив неотрицательных целых чисел nums. Расположите их в таком порядке, чтобы вместе они образовали максимально возможное число. Замечание: Результат может быть очень большим числом, поэтому представьте его как string, а не integer."
   ]
  },
  {
   "cell_type": "code",
   "execution_count": 46,
   "id": "alert-charm",
   "metadata": {
    "scrolled": false
   },
   "outputs": [
    {
     "name": "stdout",
     "output_type": "stream",
     "text": [
      "44320281510220\n"
     ]
    }
   ],
   "source": [
    "nums = [320, 44, 28, 0, 15, 1022]\n",
    "nums_s = []\n",
    "\n",
    "for i in range (len(nums)):\n",
    "    nums_s.append(str(nums[i]))\n",
    "nums_s = sorted(nums_s, reverse=True)\n",
    "\n",
    "s =''\n",
    "for i in range (len(nums)):\n",
    "    s += nums_s[i]\n",
    "\n",
    "print(s)"
   ]
  },
  {
   "cell_type": "markdown",
   "id": "catholic-roots",
   "metadata": {},
   "source": [
    "### Задание №3\n",
    "Дана матрица mat размером m * n, значения целочисленные. Напишите функцию, сортирующую каждую диагональ матрицы по возрастанию и возвращающую получившуюся матрицу."
   ]
  },
  {
   "cell_type": "code",
   "execution_count": 45,
   "id": "cleared-anniversary",
   "metadata": {
    "scrolled": false
   },
   "outputs": [
    {
     "name": "stdout",
     "output_type": "stream",
     "text": [
      "строки: 4\n",
      "столбцы: 6\n",
      "\n",
      "исходный массив\n",
      "3 2 9 1 2 1 \n",
      "4 8 5 3 3 4 \n",
      "0 1 7 4 7 1 \n",
      "5 9 8 8 6 2 \n",
      "\n",
      "результирующий массив\n",
      "3 2 2 1 2 1 \n",
      "1 7 4 3 1 4 \n",
      "0 4 8 5 7 3 \n",
      "5 9 8 8 6 9 \n"
     ]
    }
   ],
   "source": [
    "import random\n",
    "import time\n",
    "from random import randint\n",
    "import copy\n",
    "\n",
    "# Сортировка\n",
    "def diagonal_sort(mas) -> list[list[int]]:\n",
    "    m = len(mas)\n",
    "    n = len(mas[0])\n",
    "    for beg in range (-n+2, m-1):\n",
    "        diag_list = []\n",
    "        \n",
    "        for j in range (0, n): #собираем диаганаль\n",
    "            i = beg +j\n",
    "            if 0 <= i < m:\n",
    "                diag_list.append(mas[i][j])\n",
    "                \n",
    "        diag_list=sorted(diag_list, reverse=True)\n",
    "        \n",
    "        for j in range (0, n): #ставим на место отсортированную\n",
    "            i = beg +j\n",
    "            if 0 <= i < m:\n",
    "                mas[i][j]=diag_list.pop()\n",
    "    return mas\n",
    "\n",
    "m = int(input('строки: '))#строки\n",
    "n = int(input('столбцы: '))#столбцы\n",
    "max = 9\n",
    "min = 0\n",
    "mas = []\n",
    "print()\n",
    "print('исходный массив')\n",
    "for i in range(m):\n",
    "   mas.append([0]*n) \n",
    "\n",
    "for i in range (m):\n",
    "    for j in range (n):\n",
    "        mas[i][j] = random.randint(min, max)\n",
    "\n",
    "for i in range (m):\n",
    "    for j in range (n):\n",
    "        print (mas[i][j], end = ' ')\n",
    "    print()\n",
    "        \n",
    "print()\n",
    "print('результирующий массив')\n",
    "mas = diagonal_sort(mas)\n",
    "\n",
    "for i in range (m):\n",
    "    for j in range (n):\n",
    "        print (mas[i][j], end = ' ')\n",
    "    print()\n",
    "    "
   ]
  }
 ],
 "metadata": {
  "kernelspec": {
   "display_name": "Python 3 (ipykernel)",
   "language": "python",
   "name": "python3"
  },
  "language_info": {
   "codemirror_mode": {
    "name": "ipython",
    "version": 3
   },
   "file_extension": ".py",
   "mimetype": "text/x-python",
   "name": "python",
   "nbconvert_exporter": "python",
   "pygments_lexer": "ipython3",
   "version": "3.10.2"
  }
 },
 "nbformat": 4,
 "nbformat_minor": 5
}
