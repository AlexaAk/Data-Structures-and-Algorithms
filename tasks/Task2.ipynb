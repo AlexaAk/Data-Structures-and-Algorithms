{
 "cells": [
  {
   "cell_type": "markdown",
   "id": "arctic-stocks",
   "metadata": {},
   "source": [
    "### Задание №1\n",
    "Массив A состоит из целых положительных чисел длин отрезков. Составьте из трех отрезков такой треугольник, чтобы его периметр был максимально возможным. Если невозможно составить треугольник с положительной площадью функция возвращает 0."
   ]
  },
  {
   "cell_type": "code",
   "execution_count": 1,
   "id": "caring-truck",
   "metadata": {
    "scrolled": false
   },
   "outputs": [
    {
     "name": "stdout",
     "output_type": "stream",
     "text": [
      "0\n",
      "[10, 7, 5]\n"
     ]
    }
   ],
   "source": [
    "def task1(x: list[int]) -> list[int]:\n",
    "    sorted_x = sorted(x, reverse=True)\n",
    "    for i in range(len(x) - 2):\n",
    "        if sorted_x[i] < sum(sorted_x[i + 1:i + 3]):\n",
    "            return sorted_x[i:i + 3]\n",
    "    return 0\n",
    "\n",
    "print(task1([1, 2, 5, 3, 10]))\n",
    "print(task1([5, 2, 7, 1, 10]))"
   ]
  },
  {
   "cell_type": "markdown",
   "id": "maritime-conversation",
   "metadata": {},
   "source": [
    "### Задание №2\n",
    "Дан массив неотрицательных целых чисел nums. Расположите их в таком порядке, чтобы вместе они образовали максимально возможное число. Замечание: Результат может быть очень большим числом, поэтому представьте его как string, а не integer."
   ]
  },
  {
   "cell_type": "code",
   "execution_count": 4,
   "id": "alert-charm",
   "metadata": {
    "scrolled": false
   },
   "outputs": [
    {
     "name": "stdout",
     "output_type": "stream",
     "text": [
      "9811300\n"
     ]
    }
   ],
   "source": [
    "def task2(nums: list[int]) -> str:\n",
    "    return ''.join(sorted(map(str, nums), reverse=True))\n",
    "\n",
    "print(task2([130, 0, 81, 9]))"
   ]
  },
  {
   "cell_type": "markdown",
   "id": "catholic-roots",
   "metadata": {},
   "source": [
    "### Задание №3\n",
    "Дана матрица mat размером m * n, значения целочисленные. Напишите функцию, сортирующую каждую диагональ матрицы по возрастанию и возвращающую получившуюся матрицу."
   ]
  },
  {
   "cell_type": "code",
   "execution_count": 3,
   "id": "cleared-anniversary",
   "metadata": {
    "scrolled": false
   },
   "outputs": [
    {
     "name": "stdout",
     "output_type": "stream",
     "text": [
      "------------------Исходная матрица------------------\n",
      " 35, 59,-87,-51, 40\n",
      " 81, 92, 17, 53, 36\n",
      "-17, 72,-98, 64, 87\n",
      "-73,-23, 22, 71, 65\n",
      " 17,-74, 21, 56,-65\n",
      "-65, 26, 30,-88,-16\n",
      " 76, 80,-11, 50, 71\n",
      " 74,-88, -6, 93, -6\n",
      "------------------Отсортированная матрица------------------\n",
      "-98, 17,-87,-51, 40\n",
      "-16,-65, 59, 53, 36\n",
      "-88, 22, 35, 64, 87\n",
      "-74,-23, 56, 71, 65\n",
      "-11,-73,-17, 72, 92\n",
      "-65, 17, -6, 21, 81\n",
      "-88, -6, 26, 30, 71\n",
      " 74, 76, 80, 93, 50\n"
     ]
    }
   ],
   "source": [
    "from random import randint\n",
    "import copy\n",
    "\n",
    "# Сортировка\n",
    "def diagonal_sort(M: list[list[int]]) -> list[list[int]]:\n",
    "    y, x = len(M), len(M[0])\n",
    "    for i in range(2-y, x-1):\n",
    "        valid = range(max(0, 0-i), min(y, x-i))\n",
    "        diag, k = sorted([M[j][i+j] for j in valid]), 0\n",
    "        for j in valid:\n",
    "            M[j][i+j], k = diag[k], k + 1\n",
    "    return M\n",
    "\n",
    "# Генерация матрицы\n",
    "def gen_matrix(n: int=5, m: int=8, min_value: int=-100, max_value: int=100) -> list[list[int]]:\n",
    "    return [[randint(min_value, max_value) for j in range(n)] for i in range(m)]\n",
    "\n",
    "# Вывод\n",
    "def matrix_int2str(matrix: list[list[int]]) -> list[list[str]]:\n",
    "    return [list(map(str, l)) for l in matrix]\n",
    "\n",
    "def matrix_str2nice(matrix: list[list[str]], max_len: int) -> str:\n",
    "    return '\\n'.join(','.join(map(lambda x: ' ' * (max_len - len(x)) + x, l))\n",
    "                     for l in matrix)\n",
    "matrix = gen_matrix()\n",
    "sort_matrix = copy.deepcopy(matrix)\n",
    "matrix_str = matrix_int2str(matrix)\n",
    "max_num_len = max(max(map(len, l)) for l in matrix_str)\n",
    "nice_matrix = matrix_str2nice(matrix_str, max_num_len)\n",
    "print('------------------Исходная матрица------------------')\n",
    "print(nice_matrix)\n",
    "\n",
    "print('------------------Отсортированная матрица------------------')\n",
    "nice_res_matrix = matrix_str2nice(matrix_int2str(diagonal_sort(sort_matrix)), max_num_len)\n",
    "print(nice_res_matrix)"
   ]
  }
 ],
 "metadata": {
  "kernelspec": {
   "display_name": "Python 3 (ipykernel)",
   "language": "python",
   "name": "python3"
  },
  "language_info": {
   "codemirror_mode": {
    "name": "ipython",
    "version": 3
   },
   "file_extension": ".py",
   "mimetype": "text/x-python",
   "name": "python",
   "nbconvert_exporter": "python",
   "pygments_lexer": "ipython3",
   "version": "3.10.2"
  }
 },
 "nbformat": 4,
 "nbformat_minor": 5
}
